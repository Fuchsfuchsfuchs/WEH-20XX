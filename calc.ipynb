{
 "cells": [
  {
   "cell_type": "code",
   "execution_count": 17,
   "metadata": {},
   "outputs": [],
   "source": [
    "import math\n",
    "import numpy as np\n",
    "from typing import List, Set, Dict, Tuple, Optional\n"
   ]
  },
  {
   "cell_type": "code",
   "execution_count": 18,
   "metadata": {},
   "outputs": [],
   "source": [
    "class MalePop:\n",
    "    impregnationsPerDay: List[int] = [3,3,3,3,3,3,3]\n",
    "    age: List[int] = [20,23,25,22,27,30,45]\n",
    "\n",
    "class FemalePop:\n",
    "    pregnant: List[int] = [0] * 10\n",
    "    age: List[int] = []"
   ]
  },
  {
   "cell_type": "code",
   "execution_count": 52,
   "metadata": {},
   "outputs": [],
   "source": [
    "import pandas as pd\n",
    "csvPops = pd.read_csv(\"src/WORLD-2040.csv\")\n",
    "(csvPopsAge,csvPopsFemale) = (csvPops[\"Age\"],csvPops[\"F\"])\n",
    "\n",
    "def initWomans(csvPopsAge,csvPopsFemale):\n",
    "    femalePop: FemalePop = FemalePop()\n",
    "    for i in range(len(csvPopsAge)):\n",
    "        ages = csvPopsAge[i].split(\"-\")\n",
    "        ages[0] = int(ages[0])\n",
    "        ages[1] = int(ages[1])\n",
    "        num = int(csvPopsFemale[i])\n",
    "        numAges = ages[1] - ages[0] + 1\n",
    "        numPerAge  = int(num/numAges)\n",
    "        print(numPerAge)\n",
    "        for ageI in range(numAges):\n",
    "            age = ages[0] + ageI\n",
    "            femalePop.age.append([age]*numPerAge)\n",
    "            femalePop.pregnant.append([0]*numPerAge)"
   ]
  },
  {
   "cell_type": "code",
   "execution_count": 53,
   "metadata": {},
   "outputs": [
    {
     "name": "stdout",
     "output_type": "stream",
     "text": [
      "66896150\n",
      "66028520\n",
      "65289025\n",
      "64848687\n",
      "64542427\n",
      "63308238\n",
      "60856944\n",
      "57826653\n",
      "56309541\n"
     ]
    },
    {
     "ename": "MemoryError",
     "evalue": "",
     "output_type": "error",
     "traceback": [
      "\u001b[1;31m---------------------------------------------------------------------------\u001b[0m",
      "\u001b[1;31mMemoryError\u001b[0m                               Traceback (most recent call last)",
      "\u001b[1;32m<ipython-input-53-af90420607b2>\u001b[0m in \u001b[0;36m<module>\u001b[1;34m\u001b[0m\n\u001b[0;32m      1\u001b[0m \u001b[0mmalePop\u001b[0m\u001b[1;33m:\u001b[0m \u001b[0mMalePop\u001b[0m \u001b[1;33m=\u001b[0m \u001b[0mMalePop\u001b[0m\u001b[1;33m(\u001b[0m\u001b[1;33m)\u001b[0m\u001b[1;33m\u001b[0m\u001b[1;33m\u001b[0m\u001b[0m\n\u001b[1;32m----> 2\u001b[1;33m \u001b[0mfemalePop\u001b[0m\u001b[1;33m:\u001b[0m \u001b[0mFemalePop\u001b[0m  \u001b[1;33m=\u001b[0m \u001b[0minitWomans\u001b[0m\u001b[1;33m(\u001b[0m\u001b[0mcsvPopsAge\u001b[0m\u001b[1;33m,\u001b[0m\u001b[0mcsvPopsFemale\u001b[0m\u001b[1;33m)\u001b[0m\u001b[1;33m\u001b[0m\u001b[1;33m\u001b[0m\u001b[0m\n\u001b[0m\u001b[0;32m      3\u001b[0m \u001b[0mreproductionStartAge\u001b[0m \u001b[1;33m=\u001b[0m \u001b[1;36m18\u001b[0m\u001b[1;33m\u001b[0m\u001b[1;33m\u001b[0m\u001b[0m\n\u001b[0;32m      4\u001b[0m \u001b[1;31m#{pregnant: [0,100], age: [20,30]}\u001b[0m\u001b[1;33m\u001b[0m\u001b[1;33m\u001b[0m\u001b[1;33m\u001b[0m\u001b[0m\n",
      "\u001b[1;32m<ipython-input-52-5fc0289a5989>\u001b[0m in \u001b[0;36minitWomans\u001b[1;34m(csvPopsAge, csvPopsFemale)\u001b[0m\n\u001b[0;32m     16\u001b[0m             \u001b[0mage\u001b[0m \u001b[1;33m=\u001b[0m \u001b[0mages\u001b[0m\u001b[1;33m[\u001b[0m\u001b[1;36m0\u001b[0m\u001b[1;33m]\u001b[0m \u001b[1;33m+\u001b[0m \u001b[0mageI\u001b[0m\u001b[1;33m\u001b[0m\u001b[1;33m\u001b[0m\u001b[0m\n\u001b[0;32m     17\u001b[0m             \u001b[0mfemalePop\u001b[0m\u001b[1;33m.\u001b[0m\u001b[0mage\u001b[0m\u001b[1;33m.\u001b[0m\u001b[0mappend\u001b[0m\u001b[1;33m(\u001b[0m\u001b[1;33m[\u001b[0m\u001b[0mage\u001b[0m\u001b[1;33m]\u001b[0m\u001b[1;33m*\u001b[0m\u001b[0mnumPerAge\u001b[0m\u001b[1;33m)\u001b[0m\u001b[1;33m\u001b[0m\u001b[1;33m\u001b[0m\u001b[0m\n\u001b[1;32m---> 18\u001b[1;33m             \u001b[0mfemalePop\u001b[0m\u001b[1;33m.\u001b[0m\u001b[0mpregnant\u001b[0m\u001b[1;33m.\u001b[0m\u001b[0mappend\u001b[0m\u001b[1;33m(\u001b[0m\u001b[1;33m[\u001b[0m\u001b[1;36m0\u001b[0m\u001b[1;33m]\u001b[0m\u001b[1;33m*\u001b[0m\u001b[0mnumPerAge\u001b[0m\u001b[1;33m)\u001b[0m\u001b[1;33m\u001b[0m\u001b[1;33m\u001b[0m\u001b[0m\n\u001b[0m",
      "\u001b[1;31mMemoryError\u001b[0m: "
     ]
    }
   ],
   "source": [
    "malePop: MalePop = MalePop()\n",
    "femalePop: FemalePop  = initWomans(csvPopsAge,csvPopsFemale)\n",
    "reproductionStartAge = 18\n",
    "#{pregnant: [0,100], age: [20,30]}"
   ]
  },
  {
   "cell_type": "code",
   "execution_count": 20,
   "metadata": {},
   "outputs": [],
   "source": [
    "def getHornyFemale(femalePop: FemalePop, num: int )->List[int]:\n",
    "    hornyFemales = []\n",
    "    for i in range(len(femalePop.age)):\n",
    "        if (len(hornyFemales) == num): break\n",
    "        if femalePop.age[i] > reproductionStartAge and femalePop.pregnant[i]:\n",
    "            hornyFemales.append(i)\n",
    "    return hornyFemales\n",
    "\n",
    "def updatePregnancies(femalePop: FemalePop):\n",
    "    for i in range(len(femalePop.age)):\n",
    "        if(femalePop.pregnant[i]):\n",
    "            femalePop.pregnant[i] += 1\n",
    "\n",
    "def killHumans(malePop: MalePop,femalePop: FemalePop):\n",
    "    toKill = []\n",
    "    for i in range(len(malePop.age)):\n",
    "        if malePop.age[i] > 100:\n",
    "            toKill.append(i)\n",
    "    for k in toKill:\n",
    "        malePop.age.pop(k)\n",
    "        malePop.impregnationsPerDay.pop(k)\n",
    "    toKill = []\n",
    "    for i in range(len(femalePop.age)):\n",
    "        if femalePop.age[i] > 100:\n",
    "            toKill.append(i)\n",
    "    for k in toKill:\n",
    "        femalePop.age.pop(k)\n",
    "        femalePop.impregnationsPerDay.pop(k)\n"
   ]
  },
  {
   "cell_type": "code",
   "execution_count": 21,
   "metadata": {},
   "outputs": [],
   "source": [
    "def update(malePop: MalePop,femalePop: FemalePop, waitingTime = 4 * 365):\n",
    "    for i in range(len(malePop.age)):\n",
    "        if malePop.age[i] > reproductionStartAge:\n",
    "            hornyFemales = getHornyFemale(femalePop,malePop.impregnationsPerDay[i])\n",
    "            for female in hornyFemales:\n",
    "                femalePop.pregnant[i] = 1\n",
    "    \n",
    "    updatePregnancies(femalePop)\n",
    "    killHumans(malePop,femalePop)\n"
   ]
  },
  {
   "cell_type": "code",
   "execution_count": 25,
   "metadata": {},
   "outputs": [],
   "source": []
  },
  {
   "cell_type": "code",
   "execution_count": 31,
   "metadata": {},
   "outputs": [],
   "source": []
  },
  {
   "cell_type": "code",
   "execution_count": 37,
   "metadata": {},
   "outputs": [
    {
     "name": "stdout",
     "output_type": "stream",
     "text": [
      "10-14\n",
      "326445126\n"
     ]
    }
   ],
   "source": [
    "\n",
    "\n",
    "\n"
   ]
  },
  {
   "cell_type": "code",
   "execution_count": 41,
   "metadata": {},
   "outputs": [
    {
     "ename": "AttributeError",
     "evalue": "'list' object has no attribute 'astype'",
     "output_type": "error",
     "traceback": [
      "\u001b[1;31m---------------------------------------------------------------------------\u001b[0m",
      "\u001b[1;31mAttributeError\u001b[0m                            Traceback (most recent call last)",
      "\u001b[1;32m<ipython-input-41-ac5f8dbf5ffc>\u001b[0m in \u001b[0;36m<module>\u001b[1;34m\u001b[0m\n\u001b[1;32m----> 1\u001b[1;33m \u001b[0mcsvPopsAge\u001b[0m\u001b[1;33m[\u001b[0m\u001b[1;36m0\u001b[0m\u001b[1;33m]\u001b[0m\u001b[1;33m.\u001b[0m\u001b[0msplit\u001b[0m\u001b[1;33m(\u001b[0m\u001b[1;34m\"-\"\u001b[0m\u001b[1;33m)\u001b[0m\u001b[1;33m.\u001b[0m\u001b[0mastype\u001b[0m\u001b[1;33m(\u001b[0m\u001b[0mint\u001b[0m\u001b[1;33m)\u001b[0m\u001b[1;33m\u001b[0m\u001b[1;33m\u001b[0m\u001b[0m\n\u001b[0m",
      "\u001b[1;31mAttributeError\u001b[0m: 'list' object has no attribute 'astype'"
     ]
    }
   ],
   "source": [
    "csvPopsAge[0].split(\"-\").astype(int)"
   ]
  }
 ],
 "metadata": {
  "interpreter": {
   "hash": "46472515764a17ea7e3c5e2b1d53ddeee3577f2acb18fd37a87a54e039556579"
  },
  "kernelspec": {
   "display_name": "Python 3.7.9 64-bit ('dimensionReduction': conda)",
   "language": "python",
   "name": "python3"
  },
  "language_info": {
   "codemirror_mode": {
    "name": "ipython",
    "version": 3
   },
   "file_extension": ".py",
   "mimetype": "text/x-python",
   "name": "python",
   "nbconvert_exporter": "python",
   "pygments_lexer": "ipython3",
   "version": "3.7.9"
  },
  "orig_nbformat": 4
 },
 "nbformat": 4,
 "nbformat_minor": 2
}
