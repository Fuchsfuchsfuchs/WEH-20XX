{
 "cells": [
  {
   "cell_type": "code",
   "execution_count": 3,
   "metadata": {},
   "outputs": [],
   "source": [
    "import math\n",
    "import numpy as np\n",
    "from typing import List, Set, Dict, Tuple, Optional\n"
   ]
  },
  {
   "cell_type": "code",
   "execution_count": 13,
   "metadata": {},
   "outputs": [],
   "source": [
    "class MalePop:\n",
    "    def __init__(self) -> None:\n",
    "        pass\n",
    "    impregnationsPerDay: int\n",
    "    age: int\n",
    "\n",
    "class FemalePop:\n",
    "    pregnant: int\n",
    "    age: int"
   ]
  },
  {
   "cell_type": "code",
   "execution_count": 6,
   "metadata": {},
   "outputs": [],
   "source": [
    "malePop: List[MalePop] = [MalePop()]\n",
    "femalePop: List[FemalePop]  = []\n",
    "reproductionStartAge = 18\n",
    "#{pregnant: [0,100], age: [20,30]}"
   ]
  },
  {
   "cell_type": "code",
   "execution_count": 14,
   "metadata": {},
   "outputs": [],
   "source": [
    "def getHornyFemale(femalePop: List[FemalePop], num: int )->List[FemalePop]:\n",
    "    hornyFemales = []\n",
    "    for female in femalePop:\n",
    "        if (len(hornyFemales) == num): break\n",
    "        if female.age > reproductionStartAge and female.pregnant:\n",
    "            hornyFemales.append(female)\n",
    "    return hornyFemales\n",
    "\n",
    "def updatePregnancies(femalePop: List[FemalePop]):\n",
    "    for female in femalePop:\n",
    "        if(female.pregnant):\n",
    "            female.pregnant += 1\n",
    "\n",
    "def killHumans(malePop: List[MalePop],femalePop: List[FemalePop]):\n",
    "    toKill = []\n",
    "    for male in malePop:\n",
    "        if male.age > 100:\n",
    "            toKill.append(male)\n",
    "    for k in toKill:\n",
    "        malePop.remove(k)\n",
    "    toKill = []\n",
    "    for female in femalePop:\n",
    "        if female.age > 100:\n",
    "            toKill.append(female)\n",
    "    for k in toKill:\n",
    "        femalePop.remove(k)\n"
   ]
  },
  {
   "cell_type": "code",
   "execution_count": 15,
   "metadata": {},
   "outputs": [],
   "source": [
    "def update(malePop: List[MalePop],femalePop: List[FemalePop]):\n",
    "    for male in malePop:\n",
    "        if male.age > reproductionStartAge:\n",
    "            hornyFemales = getHornyFemale(femalePop,male.impregnationsPerDay)\n",
    "            for female in hornyFemales:\n",
    "                female.pregnant = 1\n",
    "    \n",
    "    updatePregnancies(femalePop)\n",
    "    killHumans(malePop,femalePop)\n"
   ]
  },
  {
   "cell_type": "code",
   "execution_count": 10,
   "metadata": {},
   "outputs": [
    {
     "name": "stdout",
     "output_type": "stream",
     "text": [
      "Oi\n"
     ]
    }
   ],
   "source": []
  }
 ],
 "metadata": {
  "interpreter": {
   "hash": "46472515764a17ea7e3c5e2b1d53ddeee3577f2acb18fd37a87a54e039556579"
  },
  "kernelspec": {
   "display_name": "Python 3.7.9 64-bit ('dimensionReduction': conda)",
   "language": "python",
   "name": "python3"
  },
  "language_info": {
   "codemirror_mode": {
    "name": "ipython",
    "version": 3
   },
   "file_extension": ".py",
   "mimetype": "text/x-python",
   "name": "python",
   "nbconvert_exporter": "python",
   "pygments_lexer": "ipython3",
   "version": "3.7.9"
  },
  "orig_nbformat": 4
 },
 "nbformat": 4,
 "nbformat_minor": 2
}
