{
 "cells": [
  {
   "cell_type": "code",
   "execution_count": null,
   "metadata": {},
   "outputs": [],
   "source": [
    "import math\n",
    "import numpy as np\n",
    "from typing import List, Set, Dict, Tuple, Optional\n"
   ]
  },
  {
   "cell_type": "code",
   "execution_count": 26,
   "metadata": {},
   "outputs": [],
   "source": [
    "class maleGeneration:\n",
    "    size:\n",
    "    inseminationsPerDay: 42\n",
    "    age: 42\n",
    "\n",
    "class femaleGeneration:\n",
    "    size:\n",
    "    pregnant: 42\n",
    "    age: 42\n",
    "    lifeExpectancy: 42\n",
    "\n",
    "    "
   ]
  },
  {
   "cell_type": "code",
   "execution_count": 30,
   "metadata": {},
   "outputs": [],
   "source": [
    "import pandas as pd\n",
    "csvPopulation = pd.read_csv(\"src/WORLD-2040.csv\")\n",
    "(csvPopulationAge,csvPopulationFemale) = (csvPopulation[\"Age\"],csvPopulation[\"F\"])"
   ]
  }
 ],
 "metadata": {
  "interpreter": {
   "hash": "3fb68feacc8701ddf19950f92eab137616402dae874dc1cc4c3d5f2751cdcf03"
  },
  "kernelspec": {
   "display_name": "Python 3.9.7 64-bit ('base': conda)",
   "language": "python",
   "name": "python3"
  },
  "language_info": {
   "codemirror_mode": {
    "name": "ipython",
    "version": 3
   },
   "file_extension": ".py",
   "mimetype": "text/x-python",
   "name": "python",
   "nbconvert_exporter": "python",
   "pygments_lexer": "ipython3",
   "version": "3.9.7"
  },
  "orig_nbformat": 4
 },
 "nbformat": 4,
 "nbformat_minor": 2
}
